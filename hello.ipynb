{
 "cells": [
  {
   "cell_type": "code",
   "execution_count": 1,
   "id": "58b43e3a",
   "metadata": {},
   "outputs": [],
   "source": [
    "import numpy as np"
   ]
  },
  {
   "cell_type": "code",
   "execution_count": 4,
   "id": "41ddaa82",
   "metadata": {},
   "outputs": [
    {
     "name": "stdout",
     "output_type": "stream",
     "text": [
      "[1 2 3]\n"
     ]
    }
   ],
   "source": [
    "arr = np.array([1,2,3])\n",
    "print(arr)"
   ]
  },
  {
   "cell_type": "markdown",
   "id": "6f6ece3e",
   "metadata": {},
   "source": [
    "### list vs numpy array"
   ]
  },
  {
   "cell_type": "code",
   "execution_count": 8,
   "id": "2518e36f",
   "metadata": {},
   "outputs": [
    {
     "name": "stdout",
     "output_type": "stream",
     "text": [
      "Python list time 5.561312198638916\n",
      "Numpy array time 2.729395866394043\n"
     ]
    }
   ],
   "source": [
    "py_list = [1,2,4,5]\n",
    "# print(f\"Python list multi {py_list*2}\")\n",
    "\n",
    "np_array = np.array([1,2,4,5])\n",
    "\n",
    "# print(f\"Numpy array multi {np_array*2}\")\n",
    "\n",
    "\n",
    "import time\n",
    "\n",
    "start = time.time()\n",
    "py_list = [x*2 for x in range(100000000)]\n",
    "end = time.time()\n",
    "print(f\"Python list time {end-start}\")\n",
    "\n",
    "\n",
    "start = time.time()\n",
    "np_array = np.arange(100000000)*2\n",
    "end = time.time()\n",
    "print(f\"Numpy array time {end-start}\")"
   ]
  },
  {
   "cell_type": "markdown",
   "id": "bf8320a7",
   "metadata": {},
   "source": []
  },
  {
   "cell_type": "markdown",
   "id": "4fe136ab",
   "metadata": {},
   "source": [
    "### creating array from scratch"
   ]
  },
  {
   "cell_type": "code",
   "execution_count": 8,
   "id": "f7b83bda",
   "metadata": {},
   "outputs": [
    {
     "name": "stdout",
     "output_type": "stream",
     "text": [
      "[0 2 4 6 8]\n"
     ]
    }
   ],
   "source": [
    "# zeros = np.zeros((10000,10000))\n",
    "# print(zeros)\n",
    "\n",
    "# ones = np.ones((10000,10000))\n",
    "# print(ones)\n",
    "\n",
    "\n",
    "full = np.full((1000,10000),10000)\n",
    "# print(full)\n",
    "\n",
    "# random = np.random.random((10000,10000))\n",
    "# print(random)\n",
    "\n",
    "sequence = np.arange(0, 10,2)\n",
    "print(sequence)"
   ]
  },
  {
   "cell_type": "markdown",
   "id": "99e77f5d",
   "metadata": {},
   "source": []
  },
  {
   "cell_type": "markdown",
   "id": "875002d3",
   "metadata": {},
   "source": [
    "### vector, Matrix and Tensor"
   ]
  },
  {
   "cell_type": "code",
   "execution_count": null,
   "id": "73e54bbb",
   "metadata": {},
   "outputs": [
    {
     "name": "stdout",
     "output_type": "stream",
     "text": [
      "[1 2 3]\n",
      "[[1 2 3]\n",
      " [4 5 6]\n",
      " [7 8 9]]\n",
      "[[[1 2 3]\n",
      "  [4 5 6]\n",
      "  [7 8 9]]\n",
      "\n",
      " [[1 2 3]\n",
      "  [4 5 6]\n",
      "  [7 8 9]]\n",
      "\n",
      " [[1 2 3]\n",
      "  [4 5 6]\n",
      "  [7 8 9]]]\n"
     ]
    }
   ],
   "source": [
    "vector = np.array([1,2,3])\n",
    "matrix = np.array([[1,2,3],[4,5,6],[7,8,9]])\n",
    "print(vector)\n",
    "print(matrix)\n",
    "tensor = np.array([[[1,2,3],[4,5,6],[7,8,9]],[[1,2,3],[4,5,6],[7,8,9]],[[1,2,3],[4,5,6],[7,8,9]]])\n",
    "print(tensor)"
   ]
  },
  {
   "cell_type": "markdown",
   "id": "a88bb279",
   "metadata": {},
   "source": [
    "### Array Propertiens"
   ]
  },
  {
   "cell_type": "code",
   "execution_count": 12,
   "id": "736d6a70",
   "metadata": {},
   "outputs": [
    {
     "name": "stdout",
     "output_type": "stream",
     "text": [
      "shape of array (2, 3)\n",
      "shape of array 2\n",
      "shape of array 6\n",
      "shape of array int64\n"
     ]
    }
   ],
   "source": [
    "arr = np.array([[1,2,3],\n",
    "                [4,5,6]\n",
    "                ])\n",
    "print(f\"shape of array {arr.shape}\")\n",
    "print(f\"shape of array {arr.ndim}\")\n",
    "print(f\"shape of array {arr.size}\")\n",
    "print(f\"shape of array {arr.dtype}\")\n"
   ]
  },
  {
   "cell_type": "markdown",
   "id": "fd294a11",
   "metadata": {},
   "source": [
    "### Array Reshaping"
   ]
  },
  {
   "cell_type": "code",
   "execution_count": 19,
   "id": "b771618d",
   "metadata": {},
   "outputs": [
    {
     "name": "stdout",
     "output_type": "stream",
     "text": [
      "original array [ 0  1  2  3  4  5  6  7  8  9 10 11]\n",
      "reshaped array [[ 0  1  2  3]\n",
      " [ 4  5  6  7]\n",
      " [ 8  9 10 11]]\n",
      "Flattened array [ 0  1  2  3  4  5  6  7  8  9 10 11]\n",
      "raveled array [ 0  1  2  3  4  5  6  7  8  9 10 11]\n",
      "transpose [[ 0  4  8]\n",
      " [ 1  5  9]\n",
      " [ 2  6 10]\n",
      " [ 3  7 11]]\n"
     ]
    }
   ],
   "source": [
    "arr = np.arange(12)\n",
    "print(f\"original array {arr}\")\n",
    "reshape = arr.reshape((3,4))\n",
    "print(f\"reshaped array {reshape}\")\n",
    "\n",
    "flattened = reshape.flatten()\n",
    "print(f\"Flattened array {flattened}\")\n",
    "\n",
    "raveled = reshape.ravel()\n",
    "print(f\"raveled array {raveled}\")\n",
    "\n",
    "# transpose\n",
    "\n",
    "transpose = reshape.T\n",
    "print(f\"transpose {transpose}\")"
   ]
  },
  {
   "cell_type": "markdown",
   "id": "e07e8c82",
   "metadata": {},
   "source": [
    "## Phase2\n"
   ]
  },
  {
   "cell_type": "markdown",
   "id": "265afb70",
   "metadata": {},
   "source": [
    "### numpy Array operations"
   ]
  },
  {
   "cell_type": "code",
   "execution_count": 22,
   "id": "102b266e",
   "metadata": {},
   "outputs": [
    {
     "name": "stdout",
     "output_type": "stream",
     "text": [
      "reverse [10  9  8  7  6  5  4  3  2  1]\n"
     ]
    }
   ],
   "source": [
    "arr = np.array([1,2,3,4,5,6,7,8,9,10])\n",
    "\n",
    "# print(f\"Basic Slicing {arr[2:7]}\")\n",
    "# print(f\"with step {arr[1:8:2]}\")\n",
    "\n",
    "print(f\"reverse {arr[::-1]}\")\n"
   ]
  },
  {
   "cell_type": "code",
   "execution_count": 27,
   "id": "ad1b7fde",
   "metadata": {},
   "outputs": [
    {
     "name": "stdout",
     "output_type": "stream",
     "text": [
      "specific element 7\n",
      "entire row [7 8 9]\n",
      "entire column [3 6 9]\n"
     ]
    }
   ],
   "source": [
    "arr_2d = np.array([[1,2,3],\n",
    "                   [4,5,6],\n",
    "                   [7,8,9]\n",
    "                   ])\n",
    "# print(arr_2d)\n",
    "print(f\"specific element {arr_2d[2,0]}\")\n",
    "print(f\"entire row {arr_2d[2]}\")\n",
    "print(f\"entire column {arr_2d[:,2]}\")"
   ]
  },
  {
   "cell_type": "markdown",
   "id": "8ecbad9f",
   "metadata": {},
   "source": [
    "### sorting ---------------- "
   ]
  },
  {
   "cell_type": "code",
   "execution_count": null,
   "id": "5a7a7308",
   "metadata": {},
   "outputs": [
    {
     "name": "stdout",
     "output_type": "stream",
     "text": [
      "unsorted [5 4 3 2 1]\n",
      "sorted [1 2 3 4 5]\n",
      "unsorted [[23  2  3]\n",
      " [ 4  5  6]\n",
      " [ 7  8  9]]\n",
      "sorted [[ 4  2  3]\n",
      " [ 7  5  6]\n",
      " [23  8  9]]\n"
     ]
    }
   ],
   "source": [
    "unsorted = np.array([5,4,3,2,1])\n",
    "sorted = np.sort(unsorted)\n",
    "\n",
    "print(f\"unsorted {unsorted}\")\n",
    "print(f\"sorted {sorted}\")\n",
    "\n",
    "arr_2d_unsorted = np.array([[23,2,3],\n",
    "                            [4,5,6],\n",
    "                            [7,8,9]\n",
    "                            ])\n",
    "\n",
    "arr_2d_sorted = np.sort(arr_2d_unsorted, axis=0) \n",
    "# axis <-> 0->for column 1->for row\n",
    "\n",
    "print(f\"unsorted {arr_2d_unsorted}\")\n",
    "print(f\"sorted {arr_2d_sorted}\")"
   ]
  },
  {
   "cell_type": "markdown",
   "id": "6c5623f2",
   "metadata": {},
   "source": [
    "### filtering"
   ]
  },
  {
   "cell_type": "code",
   "execution_count": null,
   "id": "706c36b9",
   "metadata": {},
   "outputs": [
    {
     "name": "stdout",
     "output_type": "stream",
     "text": [
      "original array [ 1  2  3  4  5  6  7  8  9 10]\n",
      "even number [ 2  4  6  8 10]\n"
     ]
    }
   ],
   "source": [
    "numbers  = np.array([1,2,3,4,5,6,7,8,9,10])\n",
    "even_number = numbers[numbers%2==0]\n",
    "# print(f\"original array {numbers}\")\n",
    "# print(f\"even number {even_number}\")\n"
   ]
  },
  {
   "cell_type": "markdown",
   "id": "8b864434",
   "metadata": {},
   "source": [
    "### Filter with mask"
   ]
  },
  {
   "cell_type": "code",
   "execution_count": 47,
   "id": "aae75d03",
   "metadata": {},
   "outputs": [
    {
     "name": "stdout",
     "output_type": "stream",
     "text": [
      "original array [ 6  7  8  9 10]\n"
     ]
    }
   ],
   "source": [
    "mask = numbers > 5\n",
    "\n",
    "print(f\"original array {numbers[mask]}\")"
   ]
  },
  {
   "cell_type": "markdown",
   "id": "0c201c0b",
   "metadata": {},
   "source": [
    "### fancy indexing vs np.where()"
   ]
  },
  {
   "cell_type": "code",
   "execution_count": 49,
   "id": "e6261092",
   "metadata": {},
   "outputs": [
    {
     "name": "stdout",
     "output_type": "stream",
     "text": [
      "original array [ 2  4  6  8 10]\n",
      "original array [ 6  7  8  9 10]\n"
     ]
    }
   ],
   "source": [
    "indices = [1,3,5,7,9]\n",
    "\n",
    "print(f\"original array {numbers[indices]}\")\n",
    "\n",
    "where_result = np.where(numbers > 5)\n",
    "\n",
    "print(f\"original array {numbers[where_result]}\")"
   ]
  },
  {
   "cell_type": "code",
   "execution_count": 51,
   "id": "786e7de9",
   "metadata": {},
   "outputs": [
    {
     "name": "stdout",
     "output_type": "stream",
     "text": [
      "['false' 'false' 'false' 'false' 'false' 'true' 'true' 'true' 'true'\n",
      " 'true']\n"
     ]
    }
   ],
   "source": [
    "condition_array = np.where(numbers > 5, \"true\",\"false\")\n",
    "\n",
    "print(condition_array)"
   ]
  },
  {
   "cell_type": "markdown",
   "id": "ff163c64",
   "metadata": {},
   "source": [
    "Adding and Removing Data"
   ]
  },
  {
   "cell_type": "code",
   "execution_count": null,
   "id": "b60de93d",
   "metadata": {},
   "outputs": [
    {
     "name": "stdout",
     "output_type": "stream",
     "text": [
      "[ 1  2  3  4  5  6  7  8  9 10 10  9  8  7  6  5  4  3  2  1]\n"
     ]
    }
   ],
   "source": [
    "arr1 = np.array([1,2,3,4,5,6,7,8,9,10])\n",
    "arr2 = np.array([10,9,8,7,6,5,4,3,2,1])\n",
    "# combine = arr1 + arr2 # add both array\n",
    "combine = np.concatenate((arr1,arr2))\n",
    "\n",
    "print(combine)\n",
    "\n",
    "# print(f\"mean {np.mean(arr)}\")\n",
    "# print(f\"median {np.median(arr)}\")\n",
    "# print(f\"std {np.std(arr)}\")\n",
    "# print(f\"var {np.var(arr)}\")\n",
    "# print(f\"sum {np.sum(arr)}\")\n",
    "# print(f\"min {np.min(arr)}\")\n",
    "# print(f\"max {np.max(arr)}\")"
   ]
  },
  {
   "cell_type": "markdown",
   "id": "5bb04d16",
   "metadata": {},
   "source": [
    "### array compatibility"
   ]
  },
  {
   "cell_type": "code",
   "execution_count": 53,
   "id": "889cef75",
   "metadata": {},
   "outputs": [
    {
     "name": "stdout",
     "output_type": "stream",
     "text": [
      "compatibility shapes True\n",
      "compatibility shapes True\n"
     ]
    }
   ],
   "source": [
    "a = np.array([1,2,3,])\n",
    "b = np.array([4,5,6])\n",
    "c = np.array([7,8,9])\n",
    "\n",
    "print(f\"compatibility shapes { a.shape == b.shape}\")\n",
    "print(f\"compatibility shapes { a.shape == c.shape}\")\n"
   ]
  },
  {
   "cell_type": "code",
   "execution_count": 60,
   "id": "35feaef6",
   "metadata": {},
   "outputs": [
    {
     "name": "stdout",
     "output_type": "stream",
     "text": [
      "with new row [[1 2]\n",
      " [3 4]\n",
      " [5 6]]\n",
      "with new col [[1 2 7]\n",
      " [3 4 8]]\n"
     ]
    }
   ],
   "source": [
    "original = np.array([[1,2],[3,4]])\n",
    "new_row = np.array([5,6])\n",
    "new_col = np.array([[7],[8]])\n",
    "\n",
    "with_new_row = np.vstack((original,new_row))\n",
    "with_new_col = np.hstack((original,new_col,))\n",
    "\n",
    "print(f\"with new row {with_new_row}\")\n",
    "print(f\"with new col {with_new_col}\")"
   ]
  },
  {
   "cell_type": "code",
   "execution_count": 62,
   "id": "db171002",
   "metadata": {},
   "outputs": [
    {
     "name": "stdout",
     "output_type": "stream",
     "text": [
      "original array [ 1  2  3  4  5  6  7  8  9 10]\n",
      "deleted array [ 1  2  3  5  6  7  8  9 10]\n"
     ]
    }
   ],
   "source": [
    "arr  = np.array([1,2,3,4,5,6,7,8,9,10])\n",
    "deleted = np.delete(arr,3)\n",
    "\n",
    "print(f\"original array {arr}\")\n",
    "print(f\"deleted array {deleted}\")"
   ]
  },
  {
   "cell_type": "code",
   "execution_count": null,
   "id": "3429e79a",
   "metadata": {},
   "outputs": [],
   "source": []
  }
 ],
 "metadata": {
  "kernelspec": {
   "display_name": ".venv",
   "language": "python",
   "name": "python3"
  },
  "language_info": {
   "codemirror_mode": {
    "name": "ipython",
    "version": 3
   },
   "file_extension": ".py",
   "mimetype": "text/x-python",
   "name": "python",
   "nbconvert_exporter": "python",
   "pygments_lexer": "ipython3",
   "version": "3.13.3"
  }
 },
 "nbformat": 4,
 "nbformat_minor": 5
}
