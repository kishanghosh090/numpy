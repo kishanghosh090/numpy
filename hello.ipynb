{
 "cells": [
  {
   "cell_type": "code",
   "execution_count": 2,
   "id": "58b43e3a",
   "metadata": {},
   "outputs": [],
   "source": [
    "import numpy as np"
   ]
  },
  {
   "cell_type": "code",
   "execution_count": 4,
   "id": "41ddaa82",
   "metadata": {},
   "outputs": [
    {
     "name": "stdout",
     "output_type": "stream",
     "text": [
      "[1 2 3]\n"
     ]
    }
   ],
   "source": [
    "arr = np.array([1,2,3])\n",
    "print(arr)"
   ]
  },
  {
   "cell_type": "markdown",
   "id": "6f6ece3e",
   "metadata": {},
   "source": [
    "### list vs numpy array"
   ]
  },
  {
   "cell_type": "code",
   "execution_count": 8,
   "id": "2518e36f",
   "metadata": {},
   "outputs": [
    {
     "name": "stdout",
     "output_type": "stream",
     "text": [
      "Python list time 5.561312198638916\n",
      "Numpy array time 2.729395866394043\n"
     ]
    }
   ],
   "source": [
    "py_list = [1,2,4,5]\n",
    "# print(f\"Python list multi {py_list*2}\")\n",
    "\n",
    "np_array = np.array([1,2,4,5])\n",
    "\n",
    "# print(f\"Numpy array multi {np_array*2}\")\n",
    "\n",
    "\n",
    "import time\n",
    "\n",
    "start = time.time()\n",
    "py_list = [x*2 for x in range(100000000)]\n",
    "end = time.time()\n",
    "print(f\"Python list time {end-start}\")\n",
    "\n",
    "\n",
    "start = time.time()\n",
    "np_array = np.arange(100000000)*2\n",
    "end = time.time()\n",
    "print(f\"Numpy array time {end-start}\")"
   ]
  },
  {
   "cell_type": "markdown",
   "id": "bf8320a7",
   "metadata": {},
   "source": []
  },
  {
   "cell_type": "markdown",
   "id": "4fe136ab",
   "metadata": {},
   "source": [
    "### creating array from scratch"
   ]
  },
  {
   "cell_type": "code",
   "execution_count": null,
   "id": "f7b83bda",
   "metadata": {},
   "outputs": [
    {
     "ename": "NameError",
     "evalue": "name 'np' is not defined",
     "output_type": "error",
     "traceback": [
      "\u001b[31m---------------------------------------------------------------------------\u001b[39m",
      "\u001b[31mNameError\u001b[39m                                 Traceback (most recent call last)",
      "\u001b[36mCell\u001b[39m\u001b[36m \u001b[39m\u001b[32mIn[1]\u001b[39m\u001b[32m, line 8\u001b[39m\n\u001b[32m      1\u001b[39m \u001b[38;5;66;03m# zeros = np.zeros((10000,10000))\u001b[39;00m\n\u001b[32m      2\u001b[39m \u001b[38;5;66;03m# print(zeros)\u001b[39;00m\n\u001b[32m      3\u001b[39m \n\u001b[32m      4\u001b[39m \u001b[38;5;66;03m# ones = np.ones((10000,10000))\u001b[39;00m\n\u001b[32m      5\u001b[39m \u001b[38;5;66;03m# print(ones)\u001b[39;00m\n\u001b[32m----> \u001b[39m\u001b[32m8\u001b[39m full = \u001b[43mnp\u001b[49m.full((\u001b[32m10000\u001b[39m,\u001b[32m100000\u001b[39m),\u001b[32m10000\u001b[39m)\n\u001b[32m      9\u001b[39m \u001b[38;5;28mprint\u001b[39m(full)\n",
      "\u001b[31mNameError\u001b[39m: name 'np' is not defined"
     ]
    }
   ],
   "source": [
    "# zeros = np.zeros((10000,10000))\n",
    "# print(zeros)\n",
    "\n",
    "# ones = np.ones((10000,10000))\n",
    "# print(ones)\n",
    "\n",
    "\n",
    "full = np.full((1000,10000),10000)\n",
    "print(full)"
   ]
  },
  {
   "cell_type": "markdown",
   "id": "99e77f5d",
   "metadata": {},
   "source": []
  },
  {
   "cell_type": "code",
   "execution_count": null,
   "id": "73e54bbb",
   "metadata": {},
   "outputs": [],
   "source": []
  }
 ],
 "metadata": {
  "kernelspec": {
   "display_name": ".venv",
   "language": "python",
   "name": "python3"
  },
  "language_info": {
   "codemirror_mode": {
    "name": "ipython",
    "version": 3
   },
   "file_extension": ".py",
   "mimetype": "text/x-python",
   "name": "python",
   "nbconvert_exporter": "python",
   "pygments_lexer": "ipython3",
   "version": "3.13.3"
  }
 },
 "nbformat": 4,
 "nbformat_minor": 5
}
