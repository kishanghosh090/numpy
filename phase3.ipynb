{
 "cells": [
  {
   "cell_type": "markdown",
   "id": "b867b0a0",
   "metadata": {},
   "source": [
    "## Advance operation with Business examples"
   ]
  },
  {
   "cell_type": "markdown",
   "id": "fbb271b0",
   "metadata": {},
   "source": [
    "# Data Structure: [resturant_id,2021,2022,2023,2024]\n",
    "sales_data = np.array([\n",
    "    [1,15000,18000,19000,20000],\n",
    "    [2,12000,13000,14000,15000],\n",
    "    [3,10000,11000,12000,13000],\n",
    "    [4,8000,9000,10000,11000],\n",
    "    [5,6000,7000,8000,9000]\n",
    "])"
   ]
  },
  {
   "cell_type": "code",
   "execution_count": 4,
   "id": "6712fe7a",
   "metadata": {},
   "outputs": [
    {
     "name": "stdout",
     "output_type": "stream",
     "text": [
      "shape (5, 5)\n"
     ]
    }
   ],
   "source": [
    "import numpy as np\n",
    "import matplotlib.pyplot as plt\n",
    "sales_data = np.array([\n",
    "    [1,15000,18000,19000,20000],\n",
    "    [2,12000,13000,14000,15000],\n",
    "    [3,10000,11000,12000,13000],\n",
    "    [4,8000,9000,10000,11000],\n",
    "    [5,6000,7000,8000,9000]\n",
    "])\n",
    "\n",
    "print(f\"shape {sales_data.shape}\")"
   ]
  }
 ],
 "metadata": {
  "kernelspec": {
   "display_name": ".venv",
   "language": "python",
   "name": "python3"
  },
  "language_info": {
   "codemirror_mode": {
    "name": "ipython",
    "version": 3
   },
   "file_extension": ".py",
   "mimetype": "text/x-python",
   "name": "python",
   "nbconvert_exporter": "python",
   "pygments_lexer": "ipython3",
   "version": "3.13.3"
  }
 },
 "nbformat": 4,
 "nbformat_minor": 5
}
